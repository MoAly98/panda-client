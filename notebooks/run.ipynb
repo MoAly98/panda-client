{
 "cells": [
  {
   "cell_type": "markdown",
   "source": [
    "## Using client API\n",
    "This section explains client API. There are two groups of API; task management API\n",
    "(submission, kill, retry, and so on) and bookkeeping API. They are provided in separate\n",
    " modules for now and will be converged into one module in the future.\n",
    "\n",
    " ### Task management API\n",
    " You need to import Client to use task management API."
   ],
   "metadata": {
    "collapsed": false
   }
  },
  {
   "cell_type": "code",
   "execution_count": null,
   "outputs": [],
   "source": [
    "from pandatools import panda_jupyter\n",
    "panda_jupyter.setup()\n",
    "\n",
    "from pandatools import Client"
   ],
   "metadata": {
    "collapsed": false,
    "pycharm": {
     "name": "#%%\n"
    }
   }
  },
  {
   "cell_type": "markdown",
   "source": [
    "<br>\n",
    "\n",
    "*  **Submit a task**\n",
    "\n",
    "You need to prepare a dictionary of task parameters following [an example](https://github.com/PanDAWMS/panda-client/blob/master/pandatools/example_task.py).\n",
    "Once it is successfully submitted you will get a taskID which is the unique identifier in the system."
   ],
   "metadata": {
    "collapsed": false
   }
  },
  {
   "cell_type": "code",
   "execution_count": null,
   "outputs": [],
   "source": [
    "from pandatools.example_task import taskParamMap\n",
    "communication_status, o = Client.insertTaskParams(taskParamMap, properErrorCode=True)\n",
    "if communication_status:\n",
    "    server_return_code, dialog_message, task_id = o\n",
    "    if o == 0:\n",
    "        print (\"taskID={}\".format(task_id))"
   ],
   "metadata": {
    "collapsed": false,
    "pycharm": {
     "name": "#%%\n"
    }
   }
  },
  {
   "cell_type": "markdown",
   "source": [
    "```\n",
    "insertTaskParams(taskParams, verbose=False, properErrorCode=False)\n",
    "    Description: Submit a task to PanDA\n",
    "\n",
    "    args:\n",
    "        taskParams: a dictionary of task parameters\n",
    "    returns:\n",
    "        status code\n",
    "              0: communication succeeded to the panda server\n",
    "              255: communication failure\n",
    "        tuple of return code, message from the server, and task ID if successful\n",
    "              0: request is processed\n",
    "              1: duplication in DEFT\n",
    "              2: duplication in JEDI\n",
    "              3: accepted for incremental execution\n",
    "              4: server error\n",
    "```\n",
    "<br>\n",
    "\n",
    "* **Kill a task**\n",
    "\n",
    "You can kill tasks using taskIDs."
   ],
   "metadata": {
    "collapsed": false
   }
  },
  {
   "cell_type": "code",
   "execution_count": null,
   "outputs": [],
   "source": [
    "communication_status, o = Client.killTask(task_id)\n",
    "if communication_status:\n",
    "    server_return_code, dialog_message = o\n",
    "    if o == 0:\n",
    "        print('OK')\n",
    "    else:\n",
    "        print (\"Not good with {} : {}\".format(server_return_code, dialog_message))"
   ],
   "metadata": {
    "collapsed": false,
    "pycharm": {
     "name": "#%%\n"
    }
   }
  },
  {
   "cell_type": "markdown",
   "source": [
    "```\n",
    "killTask(taskID, verbose=False)\n",
    "    Description: Kill a task\n",
    "\n",
    "    args:\n",
    "        jediTaskID: jediTaskID of the task to be killed\n",
    "    returns:\n",
    "        status code\n",
    "              0: communication succeeded to the panda server\n",
    "              255: communication failure\n",
    "        tuple of return code and diagnostic message\n",
    "              0: request is registered\n",
    "              1: server error\n",
    "              2: task not found\n",
    "              3: permission denied\n",
    "              4: irrelevant task status\n",
    "            100: non SSL connection\n",
    "            101: irrelevant taskID\n",
    "```\n",
    "\n",
    "* **Finish a task**"
   ],
   "metadata": {
    "collapsed": false
   }
  },
  {
   "cell_type": "code",
   "execution_count": null,
   "outputs": [],
   "source": [],
   "metadata": {
    "collapsed": false,
    "pycharm": {
     "name": "#%%\n"
    }
   }
  },
  {
   "cell_type": "markdown",
   "source": [
    "* **Retry a task**"
   ],
   "metadata": {
    "collapsed": false
   }
  },
  {
   "cell_type": "code",
   "execution_count": null,
   "outputs": [],
   "source": [],
   "metadata": {
    "collapsed": false,
    "pycharm": {
     "name": "#%%\n"
    }
   }
  },
  {
   "cell_type": "markdown",
   "source": [
    " ### Task management API\n",
    " You need to import PBookCore to use bookkeeping API.\n"
   ],
   "metadata": {
    "collapsed": false
   }
  },
  {
   "cell_type": "code",
   "execution_count": null,
   "outputs": [],
   "source": [
    "from pandatools import PBookCore"
   ],
   "metadata": {
    "collapsed": false,
    "pycharm": {
     "name": "#%%\n"
    }
   }
  },
  {
   "cell_type": "markdown",
   "source": [
    "* **Show tasks**"
   ],
   "metadata": {
    "collapsed": false
   }
  },
  {
   "cell_type": "code",
   "execution_count": null,
   "outputs": [],
   "source": [],
   "metadata": {
    "collapsed": false,
    "pycharm": {
     "name": "#%%\n"
    }
   }
  },
  {
   "cell_type": "markdown",
   "source": [
    "\n",
    "### Next section\n",
    "Click on this link to go to the next notebook: [Using client tools](https://github.com/PanDAWMS/panda-client/blob/master/notebooks/magic.ipynb)\n",
    "\n",
    "----\n",
    "\n",
    "Back to [Home](https://github.com/PanDAWMS/panda-client/wiki/Using-panda-client-on-JupyterLab)"
   ],
   "metadata": {
    "collapsed": false
   }
  }
 ],
 "metadata": {
  "kernelspec": {
   "display_name": "Python 3",
   "language": "python",
   "name": "python3"
  },
  "language_info": {
   "codemirror_mode": {
    "name": "ipython",
    "version": 2
   },
   "file_extension": ".py",
   "mimetype": "text/x-python",
   "name": "python",
   "nbconvert_exporter": "python",
   "pygments_lexer": "ipython2",
   "version": "2.7.6"
  }
 },
 "nbformat": 4,
 "nbformat_minor": 0
}