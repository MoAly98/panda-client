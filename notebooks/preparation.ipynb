{
 "cells": [
  {
   "cell_type": "markdown",
   "metadata": {
    "collapsed": true,
    "pycharm": {
     "name": "#%% md\n"
    }
   },
   "source": [
    "## Preparation\n",
    "First, you need to set up Python 3 and JupyterLab on your computer.\n",
    "[Downloading Python](https://wiki.python.org/moin/BeginnersGuide/Download) and\n",
    "[JupyterLab installation guide](https://jupyterlab.readthedocs.io/en/stable/getting_started/installation.html)\n",
    "would help if you have to install them by yourself.\n",
    "\n",
    "Here is an example with macOS X Big Sur, Python 3.9, venv, JupyterLab, and pip.\n",
    "\n",
    "#### 1. Install Python 3\n",
    "Download macOS 64-bit installer from\n",
    "[python 3.9.0 download page](https://www.python.org/downloads/release/python-390/)\n",
    "and double-click the pkg file.\n",
    "\n",
    "#### 2. Install trusted root certificates\n",
    "In Finder, go to Applications &rarr; Python 3.9 and double-click `Install Certificates.command`.\n",
    "\n",
    "#### 3. Make a virtual environment\n",
    "On a Terminal,"
   ]
  },
  {
   "cell_type": "raw",
   "source": [
    "python3 -m venv ~/mywork\n",
    "cd ~/mywork\n",
    ". bin/activate"
   ],
   "metadata": {
    "collapsed": false
   }
  },
  {
   "cell_type": "markdown",
   "source": [
    "#### 4. Install JupyterLab via pip."
   ],
   "metadata": {
    "collapsed": false
   }
  },
  {
   "cell_type": "raw",
   "source": [
    "pip install jupyterlab"
   ],
   "metadata": {
    "collapsed": false
   }
  },
  {
   "cell_type": "markdown",
   "source": [
    "#### 5. Start JupyterLab in a subdirectory"
   ],
   "metadata": {
    "collapsed": false
   }
  },
  {
   "cell_type": "raw",
   "source": [
    "mkdir jupyter_home\n",
    "cd jupyter_home\n",
    "jupyter lab"
   ],
   "metadata": {
    "collapsed": false
   }
  },
  {
   "cell_type": "markdown",
   "source": [
    "JupyterLab will open automatically in your browser.\n",
    "You may access JupyterLab by entering the local notebook server’s [URL](http://localhost:8888/lab) into the browser.\n",
    "\n",
    "----\n",
    "\n",
    "### Next section\n",
    "Click on this link to go to the next notebook: [Installation of panda-client](https://nbviewer.jupyter.org/github/PanDAWMS/panda-client/blob/master/notebooks/installation.ipynb)"
   ],
   "metadata": {
    "collapsed": false
   }
  }
 ],
 "metadata": {
  "kernelspec": {
   "display_name": "Python 3",
   "language": "python",
   "name": "python3"
  },
  "language_info": {
   "codemirror_mode": {
    "name": "ipython",
    "version": 2
   },
   "file_extension": ".py",
   "mimetype": "text/x-python",
   "name": "python",
   "nbconvert_exporter": "python",
   "pygments_lexer": "ipython2",
   "version": "2.7.6"
  }
 },
 "nbformat": 4,
 "nbformat_minor": 0
}