{
 "cells": [
  {
   "cell_type": "markdown",
   "metadata": {
    "collapsed": true,
    "pycharm": {
     "name": "#%% md\n"
    }
   },
   "source": [
    "## Using client tools\n",
    "You can use panda-client tools (pathena, prun, phpo, and pbook) in notebook through the\n",
    "magic command interface __%command args__.\n",
    "\n",
    "First, you need to setup Jupyter interface."
   ]
  },
  {
   "cell_type": "code",
   "execution_count": null,
   "outputs": [],
   "source": [
    "from pandatools import panda_jupyter\n",
    "panda_jupyter.setup()"
   ],
   "metadata": {
    "collapsed": false,
    "pycharm": {
     "name": "#%%\n"
    }
   }
  },
  {
   "cell_type": "markdown",
   "source": [
    "Then, for example"
   ],
   "metadata": {
    "collapsed": false,
    "pycharm": {
     "name": "#%% md\n"
    }
   }
  },
  {
   "cell_type": "code",
   "execution_count": null,
   "outputs": [],
   "source": [
    "%prun -h"
   ],
   "metadata": {
    "collapsed": false,
    "pycharm": {
     "name": "#%%\n"
    }
   }
  },
  {
   "cell_type": "markdown",
   "source": [
    "gives\n",
    "```\n",
    "usage: prun [options]\n",
    "\n",
    "  HowTo is available at https://twiki.cern.ch/twiki/bin/view/PanDA/PandaRun\n",
    "\n",
    "optional arguments:\n",
    "  -h, --help            show this help message and exit\n",
    "  --helpGroup {PRINT,PRUN,CONFIG,INPUT,OUTPUT,JOB,BUILD,SUBMIT,EVTFILTER,EXPERT,CONTAINERJOB,ALL}\n",
    "                        Print individual group help (the group name is not\n",
    "                        case-sensitive), where \"ALL\" will print all groups\n",
    "                        together. Some options such as --inOutDsJson may SPAN\n",
    "                        several groups\n",
    "\n",
    "Examples:\n",
    "  prun --exec \"echo %IN > input.txt; root.exe; root -b -q macrotest.C\" --athenaTag=22.0.0 --inDS ...\n",
    "  prun --exec \"cpptest %IN\" --bexec \"make\" --athenaTag=22.0.0 --inDS ...\n",
    "  prun --loadJson prunConfig.json   # read all prun options from one json file\n",
    "```\n",
    "and"
   ],
   "metadata": {
    "collapsed": false,
    "pycharm": {
     "name": "#%% md\n"
    }
   }
  },
  {
   "cell_type": "code",
   "source": [
    "%prun -3 --exec ls --outDS user.hoge.`uuidgen` --vo sphenix"
   ],
   "metadata": {
    "collapsed": false,
    "pycharm": {
     "name": "#%%\n"
    }
   },
   "execution_count": null,
   "outputs": []
  },
  {
   "cell_type": "markdown",
   "source": [
    "gives\n",
    "```\n",
    "INFO : gathering files under /Users/hoge/jupyter/home/panda\n",
    "INFO : upload source files\n",
    "INFO : submit user.hoge.73818405-09D2-4BA0-8186-E3EB22BC9AFD/\n",
    "INFO : succeeded. new jediTaskID=473\n",
    "```\n",
    "respectively.\n",
    "\n",
    "Note that it wold also be possible to call those tools as shell commands __!command args__,\n",
    "but they will hang up\n",
    "if you need to enter information such as passphrase through stdin.\n",
    "\n",
    "---\n",
    "\n",
    "Back to [Home](https://github.com/PanDAWMS/panda-client/wiki/Using-panda-client-on-JupyterLab)"
   ],
   "metadata": {
    "collapsed": false,
    "pycharm": {
     "name": "#%% md\n"
    }
   }
  }
 ],
 "metadata": {
  "kernelspec": {
   "display_name": "Python 3",
   "language": "python",
   "name": "python3"
  },
  "language_info": {
   "codemirror_mode": {
    "name": "ipython",
    "version": 2
   },
   "file_extension": ".py",
   "mimetype": "text/x-python",
   "name": "python",
   "nbconvert_exporter": "python",
   "pygments_lexer": "ipython2",
   "version": "2.7.6"
  }
 },
 "nbformat": 4,
 "nbformat_minor": 0
}