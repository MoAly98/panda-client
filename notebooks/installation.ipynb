{
 "cells": [
  {
   "cell_type": "markdown",
   "metadata": {
    "collapsed": true,
    "pycharm": {
     "name": "#%% md\n"
    }
   },
   "source": [
    "## Installation of panda-client\n",
    "This section explains how to install panda-client on JupyterLab.\n",
    "\n",
    "#### 1. Launch a notebook and install panda-client using pip"
   ]
  },
  {
   "cell_type": "code",
   "execution_count": null,
   "outputs": [],
   "source": [
    "import sys\n",
    "!{sys.executable} -m pip install panda-client"
   ],
   "metadata": {
    "collapsed": false,
    "pycharm": {
     "name": "#%%\n"
    }
   }
  },
  {
   "cell_type": "markdown",
   "source": [
    "#### 2. Copy the setup file"
   ],
   "metadata": {
    "collapsed": false,
    "pycharm": {
     "name": "#%% md\n"
    }
   }
  },
  {
   "cell_type": "code",
   "execution_count": null,
   "outputs": [],
   "source": [
    "!mkdir ~/.panda\n",
    "!cp {sys.exec_prefix}/etc/panda/panda_setup.example.cfg ~/.panda/panda_setup.cfg"
   ],
   "metadata": {
    "collapsed": false,
    "pycharm": {
     "name": "#%%\n"
    }
   }
  },
  {
   "cell_type": "markdown",
   "source": [
    "The setup file is copied to the subdirectory where you started JupyterLab and\n",
    "shows up in the Files tab on the Left Sidebar.\n",
    "\n",
    "#### 3. Modify the setup file if necessary\n",
    "The setup file contains the default values\n",
    "to use DOMA PanDA server with OIDC/OAuth2.0 authentication. If you want to use another\n",
    "server and/or authentication mechanism, you need to change the following parameters in\n",
    "the setup file:\n",
    "\n",
    "* PANDA_URL_SSL: _Base HTTPS URL of PanDA server_\n",
    "* PANDA_URL: _Base HTTP URL of PanDA server_\n",
    "* PANDA_AUTH_VO: _Virtual organization name_\n",
    "* PANDA_AUTH: _Authentication mechanism (oidc or x509)_\n",
    "\n",
    "----\n",
    "\n",
    "### Next section\n",
    "Click on this link to go to the next notebook: [Setup](https://github.com/PanDAWMS/panda-client/blob/master/notebooks/setup.ipynb)\n",
    "\n",
    "----\n",
    "\n",
    "Back to [Home](https://github.com/PanDAWMS/panda-client/wiki/Using-panda-client-on-JupyterLab)"
   ],
   "metadata": {
    "collapsed": false,
    "pycharm": {
     "name": "#%% md\n"
    }
   }
  }
 ],
 "metadata": {
  "kernelspec": {
   "display_name": "Python 3",
   "language": "python",
   "name": "python3"
  },
  "language_info": {
   "codemirror_mode": {
    "name": "ipython",
    "version": 2
   },
   "file_extension": ".py",
   "mimetype": "text/x-python",
   "name": "python",
   "nbconvert_exporter": "python",
   "pygments_lexer": "ipython2",
   "version": "2.7.6"
  }
 },
 "nbformat": 4,
 "nbformat_minor": 0
}